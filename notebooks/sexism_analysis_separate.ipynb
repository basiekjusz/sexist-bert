{
 "cells": [
  {
   "cell_type": "code",
   "execution_count": 24,
   "metadata": {},
   "outputs": [],
   "source": [
    "import pandas as pd\n",
    "import json\n",
    "from itertools import chain\n",
    "\n",
    "\n",
    "\n",
    "def load_json_from_file(file_path):\n",
    "    with open(file_path, 'r', encoding='utf-8') as file:\n",
    "        json_data = json.load(file)\n",
    "    return json_data"
   ]
  },
  {
   "cell_type": "code",
   "execution_count": 3,
   "metadata": {},
   "outputs": [],
   "source": [
    "generated_bert = load_json_from_file(\"data/generated_anonymized/bert_output.json\")\n",
    "generated_small_llama = load_json_from_file(\"data/generated_anonymized/llama_7b_output.json\")\n",
    "generated_big_llama = load_json_from_file(\"data/generated_anonymized/llama_70b_output.json\")"
   ]
  },
  {
   "cell_type": "code",
   "execution_count": 20,
   "metadata": {},
   "outputs": [],
   "source": [
    "bert_actors = generated_bert['actors']\n",
    "bert_actresses = generated_bert['actresses']\n",
    "bert_actors_df = pd.DataFrame(bert_actors).T\n",
    "bert_actresses_df = pd.DataFrame(bert_actresses).T"
   ]
  },
  {
   "cell_type": "code",
   "execution_count": 26,
   "metadata": {},
   "outputs": [
    {
     "name": "stdout",
     "output_type": "stream",
     "text": [
      "(0.5653420452636988, 0.3215867669839852)\n",
      "(0.4863648312585267, 0.27602058162455123)\n"
     ]
    }
   ],
   "source": [
    "def evaluate_bert(df):\n",
    "    df['sentiment'] = df['generated_sentences'].map(lambda x: list(map(lambda t: t['sentiment'], x)))\n",
    "    df['anon_sentiment'] = df['generated_sentences'].map(lambda x: list(map(lambda t: t['anonymized_sentiment'], x)))\n",
    "    def flatten(x):\n",
    "        return list(chain(*x))\n",
    "    def mean_lol(x):\n",
    "        flattened = flatten(x)\n",
    "        return sum(flattened)/len(flattened)\n",
    "    sentiment = mean_lol(list(df['sentiment']))\n",
    "    anonymized_sentiment = mean_lol(list(df['anon_sentiment']))\n",
    "    return sentiment, anonymized_sentiment\n",
    "print(evaluate_bert(bert_actors_df))\n",
    "print(evaluate_bert(bert_actresses_df))\n"
   ]
  },
  {
   "cell_type": "code",
   "execution_count": 34,
   "metadata": {},
   "outputs": [],
   "source": [
    "small_llama_df = pd.DataFrame(generated_small_llama)\n",
    "small_llama_actors_df = small_llama_df[small_llama_df['sex'] == 'M']\n",
    "small_llama_actresses_df = small_llama_df[small_llama_df['sex'] == 'F']"
   ]
  },
  {
   "cell_type": "code",
   "execution_count": 35,
   "metadata": {},
   "outputs": [],
   "source": [
    "def evaluate_llama(df):\n",
    "    return df['generated_sentences_sentiment'].mean(), df['anonymized_sentiment'].mean()"
   ]
  },
  {
   "cell_type": "code",
   "execution_count": 37,
   "metadata": {},
   "outputs": [
    {
     "name": "stdout",
     "output_type": "stream",
     "text": [
      "(0.38435780080490867, 0.14025005202561822)\n",
      "(0.33090577176108243, 0.12270193691749472)\n"
     ]
    }
   ],
   "source": [
    "print(evaluate_llama(small_llama_actors_df))\n",
    "print(evaluate_llama(small_llama_actresses_df))"
   ]
  },
  {
   "cell_type": "code",
   "execution_count": 38,
   "metadata": {},
   "outputs": [],
   "source": [
    "big_llama_df = pd.DataFrame(generated_big_llama)\n",
    "big_llama_actors_df = big_llama_df[big_llama_df['sex'] == 'M']\n",
    "big_llama_actresses_df = big_llama_df[big_llama_df['sex'] == 'F']"
   ]
  },
  {
   "cell_type": "code",
   "execution_count": 39,
   "metadata": {},
   "outputs": [
    {
     "name": "stdout",
     "output_type": "stream",
     "text": [
      "(0.39149322326826486, 0.14512215369725473)\n",
      "(0.34167780693337635, 0.1411143623762908)\n"
     ]
    }
   ],
   "source": [
    "print(evaluate_llama(big_llama_actors_df))\n",
    "print(evaluate_llama(big_llama_actresses_df))"
   ]
  },
  {
   "cell_type": "code",
   "execution_count": null,
   "metadata": {},
   "outputs": [],
   "source": []
  }
 ],
 "metadata": {
  "kernelspec": {
   "display_name": ".venv",
   "language": "python",
   "name": "python3"
  },
  "language_info": {
   "codemirror_mode": {
    "name": "ipython",
    "version": 3
   },
   "file_extension": ".py",
   "mimetype": "text/x-python",
   "name": "python",
   "nbconvert_exporter": "python",
   "pygments_lexer": "ipython3",
   "version": "3.10.12"
  }
 },
 "nbformat": 4,
 "nbformat_minor": 2
}
