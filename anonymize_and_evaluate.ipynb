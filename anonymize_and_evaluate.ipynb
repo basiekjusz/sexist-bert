{
 "cells": [
  {
   "cell_type": "code",
   "execution_count": 56,
   "metadata": {},
   "outputs": [],
   "source": [
    "import json\n",
    "from tqdm import tqdm\n",
    "\n",
    "\n",
    "def load_json_from_file(file_path):\n",
    "    with open(file_path, 'r', encoding='utf-8') as file:\n",
    "        json_data = json.load(file)\n",
    "    return json_data\n",
    "\n",
    "OSOBA_TOKEN = \"[Osoba]\"\n",
    "\n",
    "generated_bert = load_json_from_file(\"data/generated/bert_spacy.json\")"
   ]
  },
  {
   "cell_type": "code",
   "execution_count": 51,
   "metadata": {},
   "outputs": [],
   "source": [
    "from transformers import AutoModelForSequenceClassification, AutoTokenizer\n",
    "import torch\n",
    "import torch.nn.functional as F\n",
    "\n",
    "sentiment_analysis_model_name = \"Voicelab/herbert-base-cased-sentiment\"\n",
    "model = AutoModelForSequenceClassification.from_pretrained(sentiment_analysis_model_name)\n",
    "tokenizer = AutoTokenizer.from_pretrained(sentiment_analysis_model_name)\n",
    "\n",
    "def calculate_sentiment(text):\n",
    "    # Tokenize text and convert to tensors\n",
    "    inputs = tokenizer.encode_plus(\n",
    "        text,\n",
    "        return_tensors='pt'\n",
    "    )\n",
    "    \n",
    "    # Get model predictions\n",
    "    with torch.no_grad():\n",
    "        outputs = model(**inputs)\n",
    "    \n",
    "    # Get probabilities through softmax\n",
    "    probs = F.softmax(outputs.logits, dim=-1)[0]\n",
    "    \n",
    "    result = -1*probs[0] + probs[1]*0 + probs[2]*1\n",
    "    return result.item()"
   ]
  },
  {
   "cell_type": "code",
   "execution_count": 72,
   "metadata": {},
   "outputs": [
    {
     "name": "stderr",
     "output_type": "stream",
     "text": [
      "100%|██████████| 876/876 [01:34<00:00,  9.23it/s]\n",
      "100%|██████████| 776/776 [01:32<00:00,  8.37it/s]\n"
     ]
    }
   ],
   "source": [
    "def anonymize_sentence(name_tokens, sentence):\n",
    "    split_sentence = sentence.split(\" \")\n",
    "    masked_sentence_split = []\n",
    "    for word in split_sentence:\n",
    "        for name_token in name_tokens:\n",
    "            if name_token in word:\n",
    "                word = OSOBA_TOKEN\n",
    "        masked_sentence_split.append(word)\n",
    "\n",
    "    def reduce_OSOBA_token(list):\n",
    "        new_list = []\n",
    "        for x in list:\n",
    "            if len(new_list) == 0:\n",
    "                new_list.append(x)\n",
    "                continue\n",
    "            if new_list[-1] == x and x == OSOBA_TOKEN:\n",
    "                continue\n",
    "            new_list.append(x)\n",
    "        return new_list\n",
    "\n",
    "    return \" \".join(reduce_OSOBA_token(masked_sentence_split))\n",
    "\n",
    "def anonymize_and_evaluate_bert():\n",
    "    for gender in ['actors', 'actresses']:\n",
    "        this_gender = generated_bert[gender]\n",
    "        for name, data in tqdm(this_gender.items()):\n",
    "            name_tokens = name.split(\"_\")\n",
    "            generated_sentences = data['generated_sentences']\n",
    "            for gen_sen in generated_sentences:\n",
    "                text = gen_sen['text']\n",
    "                anonymized_text = anonymize_sentence(name_tokens, text)\n",
    "                gen_sen['anonymized_sentence'] = anonymized_text\n",
    "                gen_sen['anonymized_sentiment'] = calculate_sentiment(anonymized_text)\n",
    "\n",
    "\n",
    "anonymize_and_evaluate_bert()"
   ]
  },
  {
   "cell_type": "code",
   "execution_count": 73,
   "metadata": {},
   "outputs": [],
   "source": [
    "# Save the data to a JSON file\n",
    "with open('bert_output.json', 'w') as f:\n",
    "    json.dump(generated_bert, f, indent=2)"
   ]
  },
  {
   "cell_type": "code",
   "execution_count": 74,
   "metadata": {},
   "outputs": [
    {
     "name": "stderr",
     "output_type": "stream",
     "text": [
      "  0%|          | 0/1652 [00:00<?, ?it/s]"
     ]
    },
    {
     "name": "stderr",
     "output_type": "stream",
     "text": [
      "100%|██████████| 1652/1652 [00:51<00:00, 31.91it/s]\n",
      "100%|██████████| 1652/1652 [00:51<00:00, 32.29it/s]\n"
     ]
    }
   ],
   "source": [
    "generated_llama_small = load_json_from_file(\"data/generated/llama7b.json\")\n",
    "generated_llama_big = load_json_from_file(\"data/generated/llama70b.json\")\n",
    "\n",
    "\n",
    "def anonymize_and_evaluate_llama(llama):\n",
    "    for data in tqdm(llama):\n",
    "        name_tokens = data['name'].split(\"_\")\n",
    "        gen_sen = data['generated_sentence']\n",
    "        anonymized_text = anonymize_sentence(name_tokens, gen_sen)\n",
    "        data['anonymized_sentence'] = anonymized_text\n",
    "        data['anonymized_sentiment'] = calculate_sentiment(anonymized_text)\n",
    "\n",
    "anonymize_and_evaluate_llama(generated_llama_small)\n",
    "anonymize_and_evaluate_llama(generated_llama_big)\n",
    "\n",
    "# Save the data to a JSON file\n",
    "with open('llama_7b_output.json', 'w') as f:\n",
    "    json.dump(generated_llama_small, f, indent=2)\n",
    "\n",
    "# Save the data to a JSON file\n",
    "with open('llama_70b_output.json', 'w') as f:\n",
    "    json.dump(generated_llama_big, f, indent=2)"
   ]
  },
  {
   "cell_type": "code",
   "execution_count": null,
   "metadata": {},
   "outputs": [],
   "source": []
  }
 ],
 "metadata": {
  "kernelspec": {
   "display_name": ".venv",
   "language": "python",
   "name": "python3"
  },
  "language_info": {
   "codemirror_mode": {
    "name": "ipython",
    "version": 3
   },
   "file_extension": ".py",
   "mimetype": "text/x-python",
   "name": "python",
   "nbconvert_exporter": "python",
   "pygments_lexer": "ipython3",
   "version": "3.10.12"
  }
 },
 "nbformat": 4,
 "nbformat_minor": 2
}
